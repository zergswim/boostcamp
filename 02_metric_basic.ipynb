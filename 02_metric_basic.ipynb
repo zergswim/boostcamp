{
 "cells": [
  {
   "cell_type": "code",
   "execution_count": 1,
   "id": "23197a5a-2d0b-47d7-9c51-de5308f60576",
   "metadata": {},
   "outputs": [
    {
     "name": "stdout",
     "output_type": "stream",
     "text": [
      "Requirement already satisfied: map_boxes in /opt/conda/envs/detection/lib/python3.7/site-packages (1.0.5)\n",
      "Requirement already satisfied: numpy in /opt/conda/envs/detection/lib/python3.7/site-packages (from map_boxes) (1.21.5)\n",
      "Requirement already satisfied: pandas in /opt/conda/envs/detection/lib/python3.7/site-packages (from map_boxes) (1.3.5)\n",
      "Requirement already satisfied: pytz>=2017.3 in /opt/conda/envs/detection/lib/python3.7/site-packages (from pandas->map_boxes) (2022.6)\n",
      "Requirement already satisfied: python-dateutil>=2.7.3 in /opt/conda/envs/detection/lib/python3.7/site-packages (from pandas->map_boxes) (2.8.2)\n",
      "Requirement already satisfied: six>=1.5 in /opt/conda/envs/detection/lib/python3.7/site-packages (from python-dateutil>=2.7.3->pandas->map_boxes) (1.16.0)\n",
      "\u001b[33mWARNING: Running pip as the 'root' user can result in broken permissions and conflicting behaviour with the system package manager. It is recommended to use a virtual environment instead: https://pip.pypa.io/warnings/venv\u001b[0m\u001b[33m\n",
      "\u001b[0mRequirement already satisfied: tqdm in /opt/conda/envs/detection/lib/python3.7/site-packages (4.64.1)\n",
      "\u001b[33mWARNING: Running pip as the 'root' user can result in broken permissions and conflicting behaviour with the system package manager. It is recommended to use a virtual environment instead: https://pip.pypa.io/warnings/venv\u001b[0m\u001b[33m\n",
      "\u001b[0mRequirement already satisfied: pycocotools in /opt/conda/envs/detection/lib/python3.7/site-packages (2.0.6)\n",
      "Requirement already satisfied: matplotlib>=2.1.0 in /opt/conda/envs/detection/lib/python3.7/site-packages (from pycocotools) (3.5.3)\n",
      "Requirement already satisfied: numpy in /opt/conda/envs/detection/lib/python3.7/site-packages (from pycocotools) (1.21.5)\n",
      "Requirement already satisfied: pillow>=6.2.0 in /opt/conda/envs/detection/lib/python3.7/site-packages (from matplotlib>=2.1.0->pycocotools) (9.2.0)\n",
      "Requirement already satisfied: cycler>=0.10 in /opt/conda/envs/detection/lib/python3.7/site-packages (from matplotlib>=2.1.0->pycocotools) (0.11.0)\n",
      "Requirement already satisfied: pyparsing>=2.2.1 in /opt/conda/envs/detection/lib/python3.7/site-packages (from matplotlib>=2.1.0->pycocotools) (3.0.9)\n",
      "Requirement already satisfied: python-dateutil>=2.7 in /opt/conda/envs/detection/lib/python3.7/site-packages (from matplotlib>=2.1.0->pycocotools) (2.8.2)\n",
      "Requirement already satisfied: fonttools>=4.22.0 in /opt/conda/envs/detection/lib/python3.7/site-packages (from matplotlib>=2.1.0->pycocotools) (4.38.0)\n",
      "Requirement already satisfied: packaging>=20.0 in /opt/conda/envs/detection/lib/python3.7/site-packages (from matplotlib>=2.1.0->pycocotools) (21.3)\n",
      "Requirement already satisfied: kiwisolver>=1.0.1 in /opt/conda/envs/detection/lib/python3.7/site-packages (from matplotlib>=2.1.0->pycocotools) (1.4.4)\n",
      "Requirement already satisfied: typing-extensions in /opt/conda/envs/detection/lib/python3.7/site-packages (from kiwisolver>=1.0.1->matplotlib>=2.1.0->pycocotools) (4.3.0)\n",
      "Requirement already satisfied: six>=1.5 in /opt/conda/envs/detection/lib/python3.7/site-packages (from python-dateutil>=2.7->matplotlib>=2.1.0->pycocotools) (1.16.0)\n",
      "\u001b[33mWARNING: Running pip as the 'root' user can result in broken permissions and conflicting behaviour with the system package manager. It is recommended to use a virtual environment instead: https://pip.pypa.io/warnings/venv\u001b[0m\u001b[33m\n",
      "\u001b[0m"
     ]
    }
   ],
   "source": [
    "!pip install map_boxes\n",
    "!pip install tqdm\n",
    "!pip install pycocotools"
   ]
  },
  {
   "cell_type": "code",
   "execution_count": 2,
   "id": "c6558a42-557f-41c2-8a97-ef48215bc056",
   "metadata": {},
   "outputs": [
    {
     "name": "stdout",
     "output_type": "stream",
     "text": [
      "Couldn't import fast version of function compute_overlap, will use slow one. Check cython intallation\n"
     ]
    }
   ],
   "source": [
    "from map_boxes import mean_average_precision_for_boxes\n",
    "import pandas as pd\n",
    "import numpy as np\n",
    "import json\n",
    "from tqdm import tqdm\n",
    "from pycocotools.coco import COCO"
   ]
  },
  {
   "cell_type": "code",
   "execution_count": 112,
   "id": "24c80591-d2df-44a3-b05b-fab51d54f83b",
   "metadata": {},
   "outputs": [],
   "source": [
    "'''\n",
    "    GT_JSON: valid set json file path\n",
    "    현재 예시에서는 train.json을 임의로 valid set으로 사용\n",
    "    PRED_CSV: 위의 valid set을 inference한 submission file\n",
    "    Tip: validation json을 만들어서 validation set의 model의 결과를 추출하고 이의 mAP를 계산해보아요.\n",
    "'''\n",
    "GT_JSON = './dataset/train.json'\n",
    "PRED_CSV = './sample_submission/train_sample.csv'\n",
    "# GT_JSON = './dataset/test.json'\n",
    "# PRED_CSV = './baseline/faster_rcnn/faster_rcnn_scratch_submission.csv'\n",
    "\n",
    "\n",
    "LABEL_NAME = [\"General trash\", \"Paper\", \"Paper pack\", \"Metal\", \n",
    "              \"Glass\", \"Plastic\", \"Styrofoam\", \"Plastic bag\", \"Battery\", \"Clothing\"]\n",
    "\n",
    "# load ground truth\n",
    "with open(GT_JSON, 'r') as outfile:\n",
    "    test_anno = (json.load(outfile))\n",
    "\n",
    "# load prediction\n",
    "pred_df = pd.read_csv(PRED_CSV)"
   ]
  },
  {
   "cell_type": "code",
   "execution_count": 113,
   "id": "074d1c2a-80bc-46bc-aa6b-dfeb9f5240dd",
   "metadata": {},
   "outputs": [
    {
     "data": {
      "text/html": [
       "<div>\n",
       "<style scoped>\n",
       "    .dataframe tbody tr th:only-of-type {\n",
       "        vertical-align: middle;\n",
       "    }\n",
       "\n",
       "    .dataframe tbody tr th {\n",
       "        vertical-align: top;\n",
       "    }\n",
       "\n",
       "    .dataframe thead th {\n",
       "        text-align: right;\n",
       "    }\n",
       "</style>\n",
       "<table border=\"1\" class=\"dataframe\">\n",
       "  <thead>\n",
       "    <tr style=\"text-align: right;\">\n",
       "      <th></th>\n",
       "      <th>PredictionString</th>\n",
       "      <th>image_id</th>\n",
       "    </tr>\n",
       "  </thead>\n",
       "  <tbody>\n",
       "    <tr>\n",
       "      <th>0</th>\n",
       "      <td>0 0.7978816628456116 183.583740234375 204.7623...</td>\n",
       "      <td>train/0000.jpg</td>\n",
       "    </tr>\n",
       "    <tr>\n",
       "      <th>1</th>\n",
       "      <td>1 0.6951920390129089 125.23683166503906 0.0 10...</td>\n",
       "      <td>train/0001.jpg</td>\n",
       "    </tr>\n",
       "    <tr>\n",
       "      <th>2</th>\n",
       "      <td>3 0.764673113822937 262.1150817871094 169.8388...</td>\n",
       "      <td>train/0002.jpg</td>\n",
       "    </tr>\n",
       "    <tr>\n",
       "      <th>3</th>\n",
       "      <td>0 0.8639018535614014 764.7205200195312 16.2596...</td>\n",
       "      <td>train/0003.jpg</td>\n",
       "    </tr>\n",
       "    <tr>\n",
       "      <th>4</th>\n",
       "      <td>1 0.919501543045044 485.4276428222656 483.8736...</td>\n",
       "      <td>train/0004.jpg</td>\n",
       "    </tr>\n",
       "  </tbody>\n",
       "</table>\n",
       "</div>"
      ],
      "text/plain": [
       "                                    PredictionString        image_id\n",
       "0  0 0.7978816628456116 183.583740234375 204.7623...  train/0000.jpg\n",
       "1  1 0.6951920390129089 125.23683166503906 0.0 10...  train/0001.jpg\n",
       "2  3 0.764673113822937 262.1150817871094 169.8388...  train/0002.jpg\n",
       "3  0 0.8639018535614014 764.7205200195312 16.2596...  train/0003.jpg\n",
       "4  1 0.919501543045044 485.4276428222656 483.8736...  train/0004.jpg"
      ]
     },
     "execution_count": 113,
     "metadata": {},
     "output_type": "execute_result"
    }
   ],
   "source": [
    "pred_df.head()"
   ]
  },
  {
   "cell_type": "code",
   "execution_count": 114,
   "id": "693024f5-f96f-4c33-8c86-c7cf2741cf64",
   "metadata": {},
   "outputs": [
    {
     "name": "stdout",
     "output_type": "stream",
     "text": [
      "151039 ['train/0000.jpg', 0, 0.7978816628456116, 183.6, 204.8, 757.2, 663.2]\n"
     ]
    }
   ],
   "source": [
    "'''\n",
    "[\n",
    "    [file_name label_index confidence_score x_min x_max y_min y_max], \n",
    "    [file_name label_index confidence_score x_min x_max y_min y_max],\n",
    "    ,,,\n",
    "    [file_name label_index confidence_score x_min x_max y_min y_max]\n",
    "]\n",
    "\n",
    "아래의 mean_average_precision_for_boxes 함수에 들어갈 양식, new_pred 양식\n",
    "'''\n",
    "    \n",
    "new_pred = []\n",
    "\n",
    "file_names = pred_df['image_id'].values.tolist()\n",
    "bboxes = pred_df['PredictionString'].values.tolist()\n",
    "    \n",
    "'''\n",
    "TODO create new_pred\n",
    "위의 양식에 맞게 submission csv를 가공\n",
    "'''\n",
    "for no, bstr in enumerate(bboxes):\n",
    "    arr = bstr.split(' ')\n",
    "    for idx in range(0, len(arr), 6):\n",
    "        try:\n",
    "            label_index = int(arr[idx])\n",
    "            confidence_score = float(arr[idx+1])\n",
    "            x_min = round(float(arr[idx+2]),1)\n",
    "            x_max = round(float(arr[idx+3]),1)\n",
    "            y_min = round(float(arr[idx+4]),1)\n",
    "            y_max = round(float(arr[idx+5]),1)\n",
    "            # print(file_names[no], label_index, confidence_score, x_min, x_max, y_min, y_max)\n",
    "            new_pred.append([file_names[no], label_index, confidence_score, x_min, x_max, y_min, y_max])\n",
    "        except:\n",
    "            break\n",
    "        \n",
    "print(len(new_pred), new_pred[0])"
   ]
  },
  {
   "cell_type": "code",
   "execution_count": 115,
   "id": "9c3a1619-4a55-4263-bdbe-a3a35c910a1c",
   "metadata": {},
   "outputs": [
    {
     "name": "stdout",
     "output_type": "stream",
     "text": [
      "loading annotations into memory...\n",
      "Done (t=0.08s)\n",
      "creating index...\n",
      "index created!\n",
      "23144 ['train/0000.jpg', 0, 197.6, 193.7, 745.4, 663.4] ['train/0000.jpg', 0, 0.7978816628456116, 183.6, 204.8, 757.2, 663.2]\n"
     ]
    }
   ],
   "source": [
    "'''\n",
    "[\n",
    "    [file_name 1, confidence_score, x_min, x_max, y_min, y_max], \n",
    "    [file_name 2, confidence_score, x_min, x_max, y_min, y_max],\n",
    "    ,,,\n",
    "    [file_name , confidence_score, x_min, x_max, y_min, y_max]\n",
    "]\n",
    "\n",
    "아래의 mean_average_precision_for_boxes 함수에 들어갈 양식, gt 양식\n",
    "'''\n",
    "    \n",
    "gt = []\n",
    "    \n",
    "   \n",
    "'''\n",
    "coco.getImgIds(): return image id list\n",
    "    \n",
    "coco.loadImgs(image_id): return image_info\n",
    "    \n",
    "image_info['file_name']: return file name\n",
    "   \n",
    "coco.getAnnIds(imgIds=image_info['id']): return annotation id\n",
    "    \n",
    "coco.loadAnns(ann_ids): return annotation information list (annotation_info_list)\n",
    "    \n",
    "annotation_info_list[i]['bbox']: return i'th annotation [x_min, y_min, w, h]\n",
    "    \n",
    "annotation_info_list[i]['category_id']: return i'th annotation category\n",
    "    \n",
    "'''\n",
    "coco = COCO(GT_JSON)\n",
    "\n",
    "'''\n",
    "TODO create gt\n",
    "gt를 cocoapi를 활용하여 위의 양식으로 가공\n",
    "참고: https://github.com/cocodataset/cocoapi\n",
    "'''\n",
    "\n",
    "ids = coco.getImgIds()\n",
    "img_infos = coco.loadImgs(ids)\n",
    "\n",
    "for img_info in img_infos:\n",
    "    ann_ids = coco.getAnnIds(imgIds=img_info['id'])\n",
    "    ann_infos = coco.loadAnns(ann_ids)\n",
    "    for ann_info in ann_infos:\n",
    "        # print(img_info['file_name'], ann_info['category_id'], ann_info['bbox'])\n",
    "        x, y, w, h = ann_info['bbox']\n",
    "        gt.append([img_info['file_name'], ann_info['category_id'], x, y, x+w, y+h])\n",
    "\n",
    "print(len(gt), gt[0], new_pred[0])"
   ]
  },
  {
   "cell_type": "code",
   "execution_count": 116,
   "id": "ecdd4210-baf0-403a-b106-2c5c4b789e92",
   "metadata": {},
   "outputs": [
    {
     "name": "stdout",
     "output_type": "stream",
     "text": [
      "Number of files in annotations: 4883\n",
      "Number of files in predictions: 4883\n",
      "Unique classes: 10\n",
      "Detections length: 4883\n",
      "Annotations length: 4883\n",
      "0                              | 0.034246 |    3966\n",
      "1                              | 0.055541 |    6352\n",
      "2                              | 0.043198 |     897\n",
      "3                              | 0.028181 |     936\n",
      "4                              | 0.068826 |     982\n",
      "5                              | 0.035671 |    2943\n",
      "6                              | 0.049133 |    1263\n",
      "7                              | 0.087728 |    5178\n",
      "8                              | 0.066334 |     159\n",
      "9                              | 0.029300 |     468\n",
      "mAP: 0.049816\n",
      "0.0498156578823308\n"
     ]
    }
   ],
   "source": [
    "'''\n",
    "calculate mAP\n",
    "'''\n",
    "\n",
    "'''\n",
    "Special mission you sould create mean_average_precision_for_boxes function, not library\n",
    "'''\n",
    "\n",
    "mean_ap, average_precisions = mean_average_precision_for_boxes(gt, new_pred, iou_threshold=0.5)\n",
    "\n",
    "print(mean_ap)"
   ]
  },
  {
   "cell_type": "code",
   "execution_count": null,
   "id": "5a301d09-2e35-409b-955f-caa835011b7f",
   "metadata": {},
   "outputs": [],
   "source": []
  },
  {
   "cell_type": "code",
   "execution_count": null,
   "id": "8e43b24e-1b0c-4c79-9a7b-50296ed286aa",
   "metadata": {},
   "outputs": [],
   "source": []
  }
 ],
 "metadata": {
  "kernelspec": {
   "display_name": "detection",
   "language": "python",
   "name": "detection"
  },
  "language_info": {
   "codemirror_mode": {
    "name": "ipython",
    "version": 3
   },
   "file_extension": ".py",
   "mimetype": "text/x-python",
   "name": "python",
   "nbconvert_exporter": "python",
   "pygments_lexer": "ipython3",
   "version": "3.7.15"
  }
 },
 "nbformat": 4,
 "nbformat_minor": 5
}
